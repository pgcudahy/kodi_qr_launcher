{
 "cells": [
  {
   "cell_type": "code",
   "execution_count": 1,
   "source": [
    "import yaml\n",
    "with open('credentials.yaml', 'r') as f:\n",
    "    config = yaml.load(f, Loader=yaml.FullLoader)"
   ],
   "outputs": [],
   "metadata": {}
  },
  {
   "cell_type": "code",
   "execution_count": 2,
   "source": [
    "import requests\n",
    "import itertools"
   ],
   "outputs": [],
   "metadata": {}
  },
  {
   "cell_type": "code",
   "execution_count": 3,
   "source": [
    "message_id_counter = itertools.count()"
   ],
   "outputs": [],
   "metadata": {}
  },
  {
   "cell_type": "markdown",
   "source": [
    "## For some reason GET wouldn't work, but POST does"
   ],
   "metadata": {}
  },
  {
   "cell_type": "code",
   "execution_count": 4,
   "source": [
    "payload = {\"jsonrpc\": \"2.0\", \n",
    "           \"method\": \"Application.GetProperties\", \n",
    "           \"params\": {\"properties\": [\"volume\"]},\n",
    "           \"id\": next(message_id_counter)}\n",
    "r = requests.post('http://127.0.0.1:8080/jsonrpc',\n",
    "                 json=payload, timeout=5,\n",
    "                 auth=(config[\"username\"],config[\"password\"]))"
   ],
   "outputs": [],
   "metadata": {}
  },
  {
   "cell_type": "code",
   "execution_count": 5,
   "source": [
    "print(r.url)"
   ],
   "outputs": [
    {
     "output_type": "stream",
     "name": "stdout",
     "text": [
      "http://127.0.0.1:8080/jsonrpc\n"
     ]
    }
   ],
   "metadata": {}
  },
  {
   "cell_type": "code",
   "execution_count": 6,
   "source": [
    "r.json()"
   ],
   "outputs": [
    {
     "output_type": "execute_result",
     "data": {
      "text/plain": [
       "{'id': 0, 'jsonrpc': '2.0', 'result': {'volume': 100}}"
      ]
     },
     "metadata": {},
     "execution_count": 6
    }
   ],
   "metadata": {}
  },
  {
   "cell_type": "code",
   "execution_count": 7,
   "source": [
    "payload2 = {\"jsonrpc\": \"2.0\",\n",
    "            \"method\": \"Player.GetActivePlayers\",\n",
    "            \"id\": next(message_id_counter)}\n",
    "r2 = requests.post('http://localhost:8080/jsonrpc',\n",
    "    json=payload2, timeout=5,\n",
    "    auth=(config[\"username\"],config[\"password\"]))"
   ],
   "outputs": [],
   "metadata": {}
  },
  {
   "cell_type": "code",
   "execution_count": 8,
   "source": [
    "print(r2.url)"
   ],
   "outputs": [
    {
     "output_type": "stream",
     "name": "stdout",
     "text": [
      "http://localhost:8080/jsonrpc\n"
     ]
    }
   ],
   "metadata": {}
  },
  {
   "cell_type": "code",
   "execution_count": 9,
   "source": [
    "r2.json()"
   ],
   "outputs": [
    {
     "output_type": "execute_result",
     "data": {
      "text/plain": [
       "{'id': 1, 'jsonrpc': '2.0', 'result': []}"
      ]
     },
     "metadata": {},
     "execution_count": 9
    }
   ],
   "metadata": {}
  },
  {
   "cell_type": "code",
   "execution_count": 10,
   "source": [
    "payload3 = {\"jsonrpc\": \"2.0\",\n",
    "            \"method\": \"Player.GetPlayers\",\n",
    "            \"id\": next(message_id_counter)}\n",
    "r3 = requests.post('http://localhost:8080/jsonrpc',\n",
    "    json=payload2, timeout=5,\n",
    "    auth=(config[\"username\"],config[\"password\"]))"
   ],
   "outputs": [],
   "metadata": {}
  },
  {
   "cell_type": "code",
   "execution_count": 11,
   "source": [
    "r3.json()"
   ],
   "outputs": [
    {
     "output_type": "execute_result",
     "data": {
      "text/plain": [
       "{'id': 1, 'jsonrpc': '2.0', 'result': []}"
      ]
     },
     "metadata": {},
     "execution_count": 11
    }
   ],
   "metadata": {}
  },
  {
   "cell_type": "markdown",
   "source": [
    "## try to perform an action"
   ],
   "metadata": {}
  },
  {
   "cell_type": "code",
   "execution_count": 12,
   "source": [
    "payload4 = {\"jsonrpc\": \"2.0\", \n",
    "            \"method\": \"Player.PlayPause\", \n",
    "            \"params\": { \"playerid\": 0 }, \n",
    "            \"id\": next(message_id_counter)}\n",
    "r4 = requests.post('http://localhost:8080/jsonrpc',\n",
    "    json=payload4, timeout=5,\n",
    "    auth=(config[\"username\"],config[\"password\"]))"
   ],
   "outputs": [],
   "metadata": {}
  },
  {
   "cell_type": "code",
   "execution_count": 13,
   "source": [
    "r4.json()"
   ],
   "outputs": [
    {
     "output_type": "execute_result",
     "data": {
      "text/plain": [
       "{'error': {'code': -32100, 'message': 'Failed to execute method.'},\n",
       " 'id': 3,\n",
       " 'jsonrpc': '2.0'}"
      ]
     },
     "metadata": {},
     "execution_count": 13
    }
   ],
   "metadata": {}
  },
  {
   "cell_type": "markdown",
   "source": [
    "# Need to create a player, but first, what to play?"
   ],
   "metadata": {}
  },
  {
   "cell_type": "code",
   "execution_count": 14,
   "source": [
    "payload5 = {\"jsonrpc\": \"2.0\", \n",
    "            \"method\": \"VideoLibrary.GetMovies\", \n",
    "            \"id\": next(message_id_counter),\n",
    "            \"params\": {\"limits\": { \"start\" : 0, \n",
    "                                 \"end\": 75 }}}\n",
    "r5 = requests.post('http://localhost:8080/jsonrpc',\n",
    "    json=payload5, timeout=5,\n",
    "    auth=(config[\"username\"],config[\"password\"]))"
   ],
   "outputs": [],
   "metadata": {}
  },
  {
   "cell_type": "code",
   "execution_count": 15,
   "source": [
    "r5.json()"
   ],
   "outputs": [
    {
     "output_type": "execute_result",
     "data": {
      "text/plain": [
       "{'id': 4,\n",
       " 'jsonrpc': '2.0',\n",
       " 'result': {'limits': {'end': 75, 'start': 0, 'total': 378},\n",
       "  'movies': [{'label': 'A Christmas Story', 'movieid': 1},\n",
       "   {'label': 'Cinderella', 'movieid': 2},\n",
       "   {'label': 'A Close Shave', 'movieid': 3},\n",
       "   {'label': 'Dumbo', 'movieid': 4},\n",
       "   {'label': \"The Emperor's New Groove\", 'movieid': 5},\n",
       "   {'label': 'Finding Nemo', 'movieid': 6},\n",
       "   {'label': 'Frozen', 'movieid': 7},\n",
       "   {'label': 'Galaxy Quest', 'movieid': 8},\n",
       "   {'label': 'A Grand Day Out', 'movieid': 9},\n",
       "   {'label': 'Home Alone', 'movieid': 10},\n",
       "   {'label': 'Hotel Transylvania', 'movieid': 11},\n",
       "   {'label': 'How the Grinch Stole Christmas!', 'movieid': 12},\n",
       "   {'label': 'How to Train Your Dragon', 'movieid': 13},\n",
       "   {'label': \"Howl's Moving Castle\", 'movieid': 14},\n",
       "   {'label': 'The Incredibles', 'movieid': 15},\n",
       "   {'label': 'Inside Out', 'movieid': 16},\n",
       "   {'label': 'The Iron Giant', 'movieid': 17},\n",
       "   {'label': 'The Jungle Book', 'movieid': 18},\n",
       "   {'label': \"Kiki's Delivery Service\", 'movieid': 19},\n",
       "   {'label': 'Lady and the Tramp', 'movieid': 20},\n",
       "   {'label': 'Lilo & Stitch', 'movieid': 21},\n",
       "   {'label': 'The Lion King', 'movieid': 22},\n",
       "   {'label': 'The Little Mermaid', 'movieid': 23},\n",
       "   {'label': 'Looney Tunes Collection: Best Of Bugs Bunny', 'movieid': 24},\n",
       "   {'label': 'Lupin the Third: The Castle of Cagliostro', 'movieid': 25},\n",
       "   {'label': 'Madagascar', 'movieid': 26},\n",
       "   {'label': \"Madagascar 3: Europe's Most Wanted\", 'movieid': 27},\n",
       "   {'label': 'Madagascar: Escape 2 Africa', 'movieid': 28},\n",
       "   {'label': 'The Many Adventures of Winnie the Pooh', 'movieid': 29},\n",
       "   {'label': 'Mary Poppins', 'movieid': 30},\n",
       "   {'label': '20,000 Leagues Under the Sea', 'movieid': 31},\n",
       "   {'label': 'The Adventures of Ichabod and Mr. Toad', 'movieid': 32},\n",
       "   {'label': 'The Adventures of Tintin', 'movieid': 33},\n",
       "   {'label': 'Aladdin', 'movieid': 34},\n",
       "   {'label': 'Alice in Wonderland', 'movieid': 35},\n",
       "   {'label': 'An American Tail', 'movieid': 36},\n",
       "   {'label': 'The Aristocats', 'movieid': 37},\n",
       "   {'label': 'Bambi', 'movieid': 38},\n",
       "   {'label': 'Beauty and the Beast', 'movieid': 39},\n",
       "   {'label': 'Big Hero 6', 'movieid': 40},\n",
       "   {'label': \"A Bug's Life\", 'movieid': 41},\n",
       "   {'label': 'Cars', 'movieid': 42},\n",
       "   {'label': 'Castle in the Sky', 'movieid': 43},\n",
       "   {'label': 'The Cat Returns', 'movieid': 44},\n",
       "   {'label': 'A Charlie Brown Christmas 1965', 'movieid': 45},\n",
       "   {'label': 'A Matter of Loaf and Death', 'movieid': 46},\n",
       "   {'label': 'Melody Time', 'movieid': 47},\n",
       "   {'label': \"Mickey's Christmas Carol\", 'movieid': 48},\n",
       "   {'label': 'Minions', 'movieid': 49},\n",
       "   {'label': 'Monsters, Inc.', 'movieid': 50},\n",
       "   {'label': 'The Muppet Christmas Carol - Family 1992 Eng Subs',\n",
       "    'movieid': 51},\n",
       "   {'label': 'My Neighbor Totoro', 'movieid': 52},\n",
       "   {'label': 'Nausicaä of the Valley of the Wind', 'movieid': 53},\n",
       "   {'label': 'The Nightmare Before Christmas', 'movieid': 54},\n",
       "   {'label': 'Oliver & Company', 'movieid': 55},\n",
       "   {'label': 'One Hundred and One Dalmatians', 'movieid': 56},\n",
       "   {'label': 'Paddington', 'movieid': 57},\n",
       "   {'label': 'Paddington 2', 'movieid': 58},\n",
       "   {'label': 'Penguins of Madagascar', 'movieid': 59},\n",
       "   {'label': 'Peter Pan', 'movieid': 60},\n",
       "   {'label': 'Pinocchio', 'movieid': 61},\n",
       "   {'label': 'Pixar Short Films Collection: Volume 1', 'movieid': 62},\n",
       "   {'label': 'Pixar Short Films Collection: Volume 2', 'movieid': 63},\n",
       "   {'label': 'Pocahontas', 'movieid': 64},\n",
       "   {'label': 'Ponyo', 'movieid': 65},\n",
       "   {'label': 'Porco Rosso', 'movieid': 66},\n",
       "   {'label': 'The Princess Bride', 'movieid': 67},\n",
       "   {'label': 'Ratatouille', 'movieid': 68},\n",
       "   {'label': 'The Rescuers', 'movieid': 69},\n",
       "   {'label': 'Robin Hood', 'movieid': 70},\n",
       "   {'label': 'Shaun the Sheep Movie', 'movieid': 71},\n",
       "   {'label': 'Sing', 'movieid': 72},\n",
       "   {'label': 'Sleeping Beauty', 'movieid': 73},\n",
       "   {'label': 'Snow White and the Seven Dwarfs', 'movieid': 74},\n",
       "   {'label': 'The Sound of Music', 'movieid': 75}]}}"
      ]
     },
     "metadata": {},
     "execution_count": 15
    }
   ],
   "metadata": {}
  },
  {
   "cell_type": "code",
   "execution_count": 16,
   "source": [
    "payload6 = {\"jsonrpc\": \"2.0\", \n",
    "            \"method\": \"VideoLibrary.GetMovies\", \n",
    "            \"id\": next(message_id_counter),\n",
    "            \"params\": { \"filter\": {\"field\": \"playcount\", \n",
    "                       \"operator\": \"is\", \n",
    "                       \"value\": \"0\"}, \n",
    "           \"limits\": { \"start\" : 0, \"end\": 5 }, \n",
    "           \"properties\" : [\"art\", \"rating\", \"thumbnail\", \n",
    "                           \"playcount\", \"file\"], \n",
    "           \"sort\": { \"order\": \"ascending\", \n",
    "                    \"method\": \"label\", \n",
    "                    \"ignorearticle\": True }}}\n",
    "r6 = requests.post('http://localhost:8080/jsonrpc',\n",
    "    json=payload6, timeout=5,\n",
    "    auth=(config[\"username\"],config[\"password\"]))"
   ],
   "outputs": [],
   "metadata": {}
  },
  {
   "cell_type": "code",
   "execution_count": 17,
   "source": [
    "r6.json()"
   ],
   "outputs": [
    {
     "output_type": "execute_result",
     "data": {
      "text/plain": [
       "{'id': 5,\n",
       " 'jsonrpc': '2.0',\n",
       " 'result': {'limits': {'end': 5, 'start': 0, 'total': 323},\n",
       "  'movies': [{'art': {'fanart': 'image://http%3a%2f%2f192.168.1.104%3a8096%2fItems%2fe3d32bd87050ca7808e14514558c0b29%2fImages%2fBackdrop%2f0%3fFormat%3doriginal%26Tag%3d3029cf2f01921c5c639c628ab501b77b/',\n",
       "     'poster': 'image://http%3a%2f%2f192.168.1.104%3a8096%2fItems%2fe3d32bd87050ca7808e14514558c0b29%2fImages%2fPrimary%2f0%3fFormat%3doriginal%26Tag%3d5e834a5703af08a31483a782abecfbdd/',\n",
       "     'thumb': 'image://http%3a%2f%2f192.168.1.104%3a8096%2fItems%2fe3d32bd87050ca7808e14514558c0b29%2fImages%2fPrimary%2f0%3fFormat%3doriginal%26Tag%3d5e834a5703af08a31483a782abecfbdd/'},\n",
       "    'file': 'plugin://plugin.video.jellyfin/a329cda1727467c08a8f1493195d32d3/?dbid=31&mode=play&id=e3d32bd87050ca7808e14514558c0b29&filename=20%2C000+Leagues+Under+the+Sea.avi',\n",
       "    'label': '20,000 Leagues Under the Sea',\n",
       "    'movieid': 31,\n",
       "    'playcount': 0,\n",
       "    'rating': 7.199999809265137,\n",
       "    'thumbnail': 'image://http%3a%2f%2f192.168.1.104%3a8096%2fItems%2fe3d32bd87050ca7808e14514558c0b29%2fImages%2fPrimary%2f0%3fFormat%3doriginal%26Tag%3d5e834a5703af08a31483a782abecfbdd/'},\n",
       "   {'art': {'fanart': 'image://http%3a%2f%2f192.168.1.104%3a8096%2fItems%2fdbe2947addbc7c6a6f5fc395441bfeb8%2fImages%2fBackdrop%2f0%3fFormat%3doriginal%26Tag%3db91b67c04f158f474caab173159f57ae/',\n",
       "     'poster': 'image://http%3a%2f%2f192.168.1.104%3a8096%2fItems%2fdbe2947addbc7c6a6f5fc395441bfeb8%2fImages%2fPrimary%2f0%3fFormat%3doriginal%26Tag%3d84eafcb04a886c040cbe35310bc6180d/',\n",
       "     'thumb': 'image://http%3a%2f%2f192.168.1.104%3a8096%2fItems%2fdbe2947addbc7c6a6f5fc395441bfeb8%2fImages%2fPrimary%2f0%3fFormat%3doriginal%26Tag%3d84eafcb04a886c040cbe35310bc6180d/'},\n",
       "    'file': 'plugin://plugin.video.jellyfin/f137a2dd21bbc1b99aa5c0f6bf02a805/?dbid=122&mode=play&id=dbe2947addbc7c6a6f5fc395441bfeb8&filename=2001.A.Space.Odyssey.mp4',\n",
       "    'label': '2001: A Space Odyssey',\n",
       "    'movieid': 122,\n",
       "    'playcount': 0,\n",
       "    'rating': 8.300000190734863,\n",
       "    'thumbnail': 'image://http%3a%2f%2f192.168.1.104%3a8096%2fItems%2fdbe2947addbc7c6a6f5fc395441bfeb8%2fImages%2fPrimary%2f0%3fFormat%3doriginal%26Tag%3d84eafcb04a886c040cbe35310bc6180d/'},\n",
       "   {'art': {'poster': 'image://http%3a%2f%2f192.168.1.104%3a8096%2fItems%2f85b253de0fd3dae454aa5bde252d353a%2fImages%2fPrimary%2f0%3fFormat%3doriginal%26Tag%3df06698777ab807483f86c9ddbbb05fc8/',\n",
       "     'thumb': 'image://http%3a%2f%2f192.168.1.104%3a8096%2fItems%2f85b253de0fd3dae454aa5bde252d353a%2fImages%2fPrimary%2f0%3fFormat%3doriginal%26Tag%3df06698777ab807483f86c9ddbbb05fc8/'},\n",
       "    'file': 'plugin://plugin.video.jellyfin/a329cda1727467c08a8f1493195d32d3/?dbid=41&mode=play&id=85b253de0fd3dae454aa5bde252d353a&filename=A+Bug%27s+Life.avi',\n",
       "    'label': \"A Bug's Life\",\n",
       "    'movieid': 41,\n",
       "    'playcount': 0,\n",
       "    'rating': 7.199999809265137,\n",
       "    'thumbnail': 'image://http%3a%2f%2f192.168.1.104%3a8096%2fItems%2f85b253de0fd3dae454aa5bde252d353a%2fImages%2fPrimary%2f0%3fFormat%3doriginal%26Tag%3df06698777ab807483f86c9ddbbb05fc8/'},\n",
       "   {'art': {'poster': 'image://http%3a%2f%2f192.168.1.104%3a8096%2fItems%2fa80372d6768de4d434475317f876f154%2fImages%2fPrimary%2f0%3fFormat%3doriginal%26Tag%3d981c68841709712881745fcb9255e5ab/',\n",
       "     'thumb': 'image://http%3a%2f%2f192.168.1.104%3a8096%2fItems%2fa80372d6768de4d434475317f876f154%2fImages%2fPrimary%2f0%3fFormat%3doriginal%26Tag%3d981c68841709712881745fcb9255e5ab/'},\n",
       "    'file': 'plugin://plugin.video.jellyfin/a329cda1727467c08a8f1493195d32d3/?dbid=1&mode=play&id=a80372d6768de4d434475317f876f154&filename=A.Christmas.Story.1983.1080p.BluRay.x264.anoXmous_.mp4',\n",
       "    'label': 'A Christmas Story',\n",
       "    'movieid': 1,\n",
       "    'playcount': 0,\n",
       "    'rating': 8.0,\n",
       "    'thumbnail': 'image://http%3a%2f%2f192.168.1.104%3a8096%2fItems%2fa80372d6768de4d434475317f876f154%2fImages%2fPrimary%2f0%3fFormat%3doriginal%26Tag%3d981c68841709712881745fcb9255e5ab/'},\n",
       "   {'art': {'poster': 'image://http%3a%2f%2f192.168.1.104%3a8096%2fItems%2f4e1c01a36773518ccc1baa8d16d21653%2fImages%2fPrimary%2f0%3fFormat%3doriginal%26Tag%3d6b2be0acda97e204c38711199785e782/',\n",
       "     'thumb': 'image://http%3a%2f%2f192.168.1.104%3a8096%2fItems%2f4e1c01a36773518ccc1baa8d16d21653%2fImages%2fPrimary%2f0%3fFormat%3doriginal%26Tag%3d6b2be0acda97e204c38711199785e782/'},\n",
       "    'file': 'plugin://plugin.video.jellyfin/f137a2dd21bbc1b99aa5c0f6bf02a805/?dbid=163&mode=play&id=4e1c01a36773518ccc1baa8d16d21653&filename=A.Fistful.of.Dollars.1964.1080p.Bluray.x264.anoXmous_.mp4',\n",
       "    'label': 'A Fistful of Dollars',\n",
       "    'movieid': 163,\n",
       "    'playcount': 0,\n",
       "    'rating': 8.0,\n",
       "    'thumbnail': 'image://http%3a%2f%2f192.168.1.104%3a8096%2fItems%2f4e1c01a36773518ccc1baa8d16d21653%2fImages%2fPrimary%2f0%3fFormat%3doriginal%26Tag%3d6b2be0acda97e204c38711199785e782/'}]}}"
      ]
     },
     "metadata": {},
     "execution_count": 17
    }
   ],
   "metadata": {}
  },
  {
   "cell_type": "markdown",
   "source": [
    "```\n",
    "'label': '2001: A Space Odyssey',\n",
    "'movieid': 122,\n",
    "'playcount': 0,\n",
    "'rating': 8.300000190734863\n",
    "```"
   ],
   "metadata": {}
  },
  {
   "cell_type": "code",
   "execution_count": 18,
   "source": [
    "payload7 = {\"jsonrpc\": \"2.0\", \n",
    "            \"method\": \"Player.Open\", \n",
    "            \"id\": next(message_id_counter),\n",
    "            \"params\": {\"item\":{\"movieid\": 122}}}\n",
    "r7 = requests.post('http://localhost:8080/jsonrpc',\n",
    "    json=payload7, timeout=5,\n",
    "    auth=(config[\"username\"],config[\"password\"]))"
   ],
   "outputs": [],
   "metadata": {}
  },
  {
   "cell_type": "code",
   "execution_count": 19,
   "source": [
    "r7.json()"
   ],
   "outputs": [
    {
     "output_type": "execute_result",
     "data": {
      "text/plain": [
       "{'id': 6, 'jsonrpc': '2.0', 'result': 'OK'}"
      ]
     },
     "metadata": {},
     "execution_count": 19
    }
   ],
   "metadata": {}
  },
  {
   "cell_type": "markdown",
   "source": [
    "## Great, that works. Now see which player is started"
   ],
   "metadata": {}
  },
  {
   "cell_type": "code",
   "execution_count": 20,
   "source": [
    "payload8 = {\"jsonrpc\": \"2.0\",\n",
    "            \"method\": \"Player.GetActivePlayers\",\n",
    "            \"id\": next(message_id_counter)}\n",
    "r8 = requests.post('http://localhost:8080/jsonrpc',\n",
    "    json=payload8, timeout=5,\n",
    "    auth=(config[\"username\"],config[\"password\"]))"
   ],
   "outputs": [],
   "metadata": {}
  },
  {
   "cell_type": "code",
   "execution_count": 21,
   "source": [
    "r8.json()"
   ],
   "outputs": [
    {
     "output_type": "execute_result",
     "data": {
      "text/plain": [
       "{'id': 7, 'jsonrpc': '2.0', 'result': []}"
      ]
     },
     "metadata": {},
     "execution_count": 21
    }
   ],
   "metadata": {}
  },
  {
   "cell_type": "code",
   "execution_count": 22,
   "source": [
    "players=[]\n",
    "for i in r8.json()[\"result\"]:\n",
    "    players.append(i[\"playerid\"])"
   ],
   "outputs": [],
   "metadata": {}
  },
  {
   "cell_type": "code",
   "execution_count": 23,
   "source": [
    "players"
   ],
   "outputs": [
    {
     "output_type": "execute_result",
     "data": {
      "text/plain": [
       "[]"
      ]
     },
     "metadata": {},
     "execution_count": 23
    }
   ],
   "metadata": {}
  },
  {
   "cell_type": "markdown",
   "source": [
    "## Now try to stop that player"
   ],
   "metadata": {}
  },
  {
   "cell_type": "code",
   "execution_count": 24,
   "source": [
    "payload9 = {\"jsonrpc\": \"2.0\", \n",
    "            \"method\": \"Player.Stop\", \n",
    "            \"id\": next(message_id_counter),\n",
    "            \"params\": {'playerid': 1}}\n",
    "r9 = requests.post('http://localhost:8080/jsonrpc',\n",
    "    json=payload9, timeout=5,\n",
    "    auth=(config[\"username\"],config[\"password\"]))"
   ],
   "outputs": [],
   "metadata": {}
  },
  {
   "cell_type": "markdown",
   "source": [
    "### Wrap it in a function"
   ],
   "metadata": {}
  },
  {
   "cell_type": "code",
   "execution_count": 25,
   "source": [
    "def stop_all_players(username, password, message_id_counter):\n",
    "    active_players = requests.post('http://localhost:8080/jsonrpc',\n",
    "        json={\"jsonrpc\": \"2.0\",\n",
    "            \"method\": \"Player.GetActivePlayers\",\n",
    "            \"id\": next(message_id_counter)}, \n",
    "            timeout=5,\n",
    "            auth=(username,password))\n",
    "    responses={}\n",
    "    for i in active_players.json()[\"result\"]:\n",
    "        responses[i[\"playerid\"]] = requests.post('http://localhost:8080/jsonrpc',\n",
    "            json={\"jsonrpc\": \"2.0\", \n",
    "                \"method\": \"Player.Stop\",\n",
    "                \"params\": {\"playerid\" : i[\"playerid\"]},\n",
    "                \"id\": next(message_id_counter)}, \n",
    "                timeout=5,\n",
    "                auth=(username, password))\n",
    "    return(responses)\n",
    "    "
   ],
   "outputs": [],
   "metadata": {}
  },
  {
   "cell_type": "code",
   "execution_count": 26,
   "source": [
    "responses = stop_all_players(config[\"username\"],config[\"password\"],\n",
    "    message_id_counter)"
   ],
   "outputs": [],
   "metadata": {}
  },
  {
   "cell_type": "markdown",
   "source": [
    "## Start it again"
   ],
   "metadata": {}
  },
  {
   "cell_type": "code",
   "execution_count": 34,
   "source": [
    "payload7 = {\"jsonrpc\": \"2.0\", \n",
    "            \"method\": \"Player.Open\", \n",
    "            \"id\": next(message_id_counter),\n",
    "            \"params\": {\"item\":{\"movieid\": 122}}}\n",
    "r7 = requests.post('http://localhost:8080/jsonrpc',\n",
    "    json=payload7, timeout=5,\n",
    "    auth=(config[\"username\"],config[\"password\"]))"
   ],
   "outputs": [],
   "metadata": {}
  },
  {
   "cell_type": "markdown",
   "source": [
    "## Now try to pause"
   ],
   "metadata": {}
  },
  {
   "cell_type": "code",
   "execution_count": 35,
   "source": [
    "active_players = requests.post('http://localhost:8080/jsonrpc',\n",
    "        json={\"jsonrpc\": \"2.0\",\n",
    "            \"method\": \"Player.GetActivePlayers\",\n",
    "            \"id\": next(message_id_counter)}, \n",
    "            timeout=5,\n",
    "            auth=(config[\"username\"],config[\"password\"]))"
   ],
   "outputs": [],
   "metadata": {}
  },
  {
   "cell_type": "code",
   "execution_count": 36,
   "source": [
    "active_players.json()[\"id\"]"
   ],
   "outputs": [
    {
     "output_type": "execute_result",
     "data": {
      "text/plain": [
       "13"
      ]
     },
     "metadata": {},
     "execution_count": 36
    }
   ],
   "metadata": {}
  },
  {
   "cell_type": "code",
   "execution_count": 37,
   "source": [
    "len(active_players.json()[\"result\"])"
   ],
   "outputs": [
    {
     "output_type": "execute_result",
     "data": {
      "text/plain": [
       "1"
      ]
     },
     "metadata": {},
     "execution_count": 37
    }
   ],
   "metadata": {}
  },
  {
   "cell_type": "code",
   "execution_count": 31,
   "source": [
    "active_players.json()[\"result\"][0][\"playerid\"]"
   ],
   "outputs": [
    {
     "output_type": "execute_result",
     "data": {
      "text/plain": [
       "[]"
      ]
     },
     "metadata": {},
     "execution_count": 31
    }
   ],
   "metadata": {}
  },
  {
   "cell_type": "code",
   "execution_count": 50,
   "source": [
    "def play_pause(username, password, message_id_counter):\n",
    "    active_players = requests.post('http://localhost:8080/jsonrpc',\n",
    "        json={\"jsonrpc\": \"2.0\",\n",
    "            \"method\": \"Player.GetActivePlayers\",\n",
    "            \"id\": next(message_id_counter)}, \n",
    "        timeout=5,\n",
    "        auth=(username,password))\n",
    "    if(len(active_players.json()[\"result\"]) > 0):\n",
    "        response = requests.post('http://localhost:8080/jsonrpc',\n",
    "            json={\"jsonrpc\": \"2.0\", \n",
    "                \"method\": \"Player.PlayPause\",\n",
    "                \"params\": {\"playerid\" : active_players.json()[\"result\"][0][\"playerid\"]},\n",
    "                \"id\": next(message_id_counter)}, \n",
    "            timeout=5,\n",
    "            auth=(username, password))\n",
    "        return(response)\n",
    "    else:\n",
    "        return(False)"
   ],
   "outputs": [],
   "metadata": {}
  },
  {
   "cell_type": "code",
   "execution_count": 51,
   "source": [
    "response = play_pause(config[\"username\"],config[\"password\"],\n",
    "    message_id_counter)"
   ],
   "outputs": [],
   "metadata": {}
  },
  {
   "cell_type": "code",
   "execution_count": 52,
   "source": [
    "response"
   ],
   "outputs": [
    {
     "output_type": "execute_result",
     "data": {
      "text/plain": [
       "False"
      ]
     },
     "metadata": {},
     "execution_count": 52
    }
   ],
   "metadata": {}
  },
  {
   "cell_type": "markdown",
   "source": [
    "### Okay now stop again"
   ],
   "metadata": {}
  },
  {
   "cell_type": "code",
   "execution_count": 53,
   "source": [
    "responses = stop_all_players(config[\"username\"],config[\"password\"],\n",
    "    message_id_counter)"
   ],
   "outputs": [],
   "metadata": {}
  },
  {
   "cell_type": "markdown",
   "source": [
    "## Can I start a movie by name rather than ID?"
   ],
   "metadata": {}
  },
  {
   "cell_type": "markdown",
   "source": [
    "```\n",
    "'label': 'A Fistful of Dollars',\n",
    "'movieid': 163,\n",
    "'playcount': 0,\n",
    "'rating': 8.0\n",
    "```"
   ],
   "metadata": {}
  },
  {
   "cell_type": "code",
   "execution_count": 54,
   "source": [
    "payload10 = {\"jsonrpc\": \"2.0\", \n",
    "            \"method\": \"Player.Open\", \n",
    "            \"id\": next(message_id_counter),\n",
    "            \"params\": {\"item\":{'title': 'A Fistful of Dollars'}}}\n",
    "r10 = requests.post('http://localhost:8080/jsonrpc',\n",
    "    json=payload10, timeout=5,\n",
    "    auth=(config[\"username\"],config[\"password\"]))"
   ],
   "outputs": [],
   "metadata": {}
  },
  {
   "cell_type": "code",
   "execution_count": 55,
   "source": [
    "r10.json()"
   ],
   "outputs": [
    {
     "output_type": "execute_result",
     "data": {
      "text/plain": [
       "{'error': {'code': -32602,\n",
       "  'data': {'method': 'Player.Open',\n",
       "   'stack': {'message': 'Received value does not match any of the union type definitions',\n",
       "    'name': 'item',\n",
       "    'type': 'object'}},\n",
       "  'message': 'Invalid params.'},\n",
       " 'id': 22,\n",
       " 'jsonrpc': '2.0'}"
      ]
     },
     "metadata": {},
     "execution_count": 55
    }
   ],
   "metadata": {}
  },
  {
   "cell_type": "markdown",
   "source": [
    "Hmmm..."
   ],
   "metadata": {}
  },
  {
   "cell_type": "code",
   "execution_count": 56,
   "source": [
    "payload11 = {\"jsonrpc\": \"2.0\", \n",
    "            \"method\": \"VideoLibrary.GetMovies\", \n",
    "            \"id\": next(message_id_counter),\n",
    "            \"params\": {\"filter\":\n",
    "                {\"field\": \"title\",\n",
    "                \"operator\": \"is\",\n",
    "                \"value\": \"A Fistful of Dollars\"}}}\n",
    "r11 = requests.post('http://localhost:8080/jsonrpc',\n",
    "    json=payload11, timeout=5,\n",
    "    auth=(config[\"username\"],config[\"password\"]))\n"
   ],
   "outputs": [],
   "metadata": {}
  },
  {
   "cell_type": "code",
   "execution_count": 57,
   "source": [
    "r11.json()[\"result\"][\"movies\"][0][\"movieid\"]"
   ],
   "outputs": [
    {
     "output_type": "execute_result",
     "data": {
      "text/plain": [
       "163"
      ]
     },
     "metadata": {},
     "execution_count": 57
    }
   ],
   "metadata": {}
  },
  {
   "cell_type": "code",
   "execution_count": 58,
   "source": [
    "def get_movie_id_from_title(title, username, password, message_id_counter):\n",
    "    response = requests.post('http://localhost:8080/jsonrpc',\n",
    "        json={\"jsonrpc\": \"2.0\", \n",
    "            \"method\": \"VideoLibrary.GetMovies\", \n",
    "            \"id\": next(message_id_counter),\n",
    "            \"params\": {\"filter\":\n",
    "                {\"field\": \"title\",\n",
    "                \"operator\": \"is\",\n",
    "                \"value\": title}}},\n",
    "            timeout=5,\n",
    "            auth=(username, password))\n",
    "    return(response.json()[\"result\"][\"movies\"][0][\"movieid\"])\n",
    "    "
   ],
   "outputs": [],
   "metadata": {}
  },
  {
   "cell_type": "code",
   "execution_count": 59,
   "source": [
    "get_movie_id_from_title(\"A Fistful of Dollars\", config[\"username\"],config[\"password\"], message_id_counter)"
   ],
   "outputs": [
    {
     "output_type": "execute_result",
     "data": {
      "text/plain": [
       "163"
      ]
     },
     "metadata": {},
     "execution_count": 59
    }
   ],
   "metadata": {}
  },
  {
   "cell_type": "code",
   "execution_count": 61,
   "source": [
    "payload12 = {\"jsonrpc\": \"2.0\", \n",
    "            \"method\": \"Player.Open\", \n",
    "            \"id\": next(message_id_counter),\n",
    "            \"params\": {\"item\":{\"movieid\": get_movie_id_from_title(\"A Fistful of Dollars\", \n",
    "                config[\"username\"],\n",
    "                config[\"password\"], \n",
    "                message_id_counter)}}}\n",
    "r12 = requests.post('http://localhost:8080/jsonrpc',\n",
    "    json=payload12, timeout=5,\n",
    "    auth=(config[\"username\"],config[\"password\"]))"
   ],
   "outputs": [],
   "metadata": {}
  },
  {
   "cell_type": "code",
   "execution_count": 62,
   "source": [
    "r12.json()"
   ],
   "outputs": [
    {
     "output_type": "execute_result",
     "data": {
      "text/plain": [
       "{'id': 26, 'jsonrpc': '2.0', 'result': 'OK'}"
      ]
     },
     "metadata": {},
     "execution_count": 62
    }
   ],
   "metadata": {}
  },
  {
   "cell_type": "code",
   "execution_count": 63,
   "source": [
    "active_players = requests.post('http://localhost:8080/jsonrpc',\n",
    "        json={\"jsonrpc\": \"2.0\",\n",
    "            \"method\": \"Player.GetActivePlayers\",\n",
    "            \"id\": next(message_id_counter)}, \n",
    "            timeout=5,\n",
    "            auth=(config[\"username\"],config[\"password\"]))"
   ],
   "outputs": [],
   "metadata": {}
  },
  {
   "cell_type": "code",
   "execution_count": 64,
   "source": [
    "active_players.json()"
   ],
   "outputs": [
    {
     "output_type": "execute_result",
     "data": {
      "text/plain": [
       "{'id': 28,\n",
       " 'jsonrpc': '2.0',\n",
       " 'result': [{'playerid': 1, 'playertype': 'internal', 'type': 'video'}]}"
      ]
     },
     "metadata": {},
     "execution_count": 64
    }
   ],
   "metadata": {}
  },
  {
   "cell_type": "code",
   "execution_count": 65,
   "source": [
    "responses = stop_all_players(config[\"username\"],config[\"password\"],\n",
    "    message_id_counter)"
   ],
   "outputs": [],
   "metadata": {}
  },
  {
   "cell_type": "code",
   "execution_count": 66,
   "source": [
    "def play_movie_from_title(title, username, password, message_id_counter):\n",
    "    response = requests.post('http://localhost:8080/jsonrpc',\n",
    "        json={\"jsonrpc\": \"2.0\", \n",
    "            \"method\": \"Player.Open\",\n",
    "            \"id\": next(message_id_counter),\n",
    "            \"params\": {\"item\":{\"movieid\": get_movie_id_from_title(title, \n",
    "                username,\n",
    "                password, \n",
    "                message_id_counter)}}},\n",
    "        timeout=5,\n",
    "        auth=(username, password))\n",
    "    return(response)"
   ],
   "outputs": [],
   "metadata": {}
  },
  {
   "cell_type": "code",
   "execution_count": 67,
   "source": [
    "play_movie_from_title(\"A Fistful of Dollars\", config[\"username\"], config[\"password\"], message_id_counter)"
   ],
   "outputs": [
    {
     "output_type": "execute_result",
     "data": {
      "text/plain": [
       "<Response [200]>"
      ]
     },
     "metadata": {},
     "execution_count": 67
    }
   ],
   "metadata": {}
  },
  {
   "cell_type": "code",
   "execution_count": 68,
   "source": [
    "stop_all_players(config[\"username\"],config[\"password\"], message_id_counter)"
   ],
   "outputs": [
    {
     "output_type": "execute_result",
     "data": {
      "text/plain": [
       "{1: <Response [200]>}"
      ]
     },
     "metadata": {},
     "execution_count": 68
    }
   ],
   "metadata": {}
  },
  {
   "cell_type": "markdown",
   "source": [
    "## Get a list of all movies"
   ],
   "metadata": {}
  },
  {
   "cell_type": "code",
   "execution_count": 69,
   "source": [
    "payload13 = {\"jsonrpc\": \"2.0\", \n",
    "            \"method\": \"VideoLibrary.GetMovies\", \n",
    "            \"id\": next(message_id_counter),\n",
    "            \"params\": {\"properties\" : [\"thumbnail\", \"playcount\", \"file\"], \n",
    "            \"sort\": { \"order\": \"ascending\", \n",
    "                    \"method\": \"label\", \n",
    "                    \"ignorearticle\": True }}}\n",
    "r13 = requests.post('http://localhost:8080/jsonrpc',\n",
    "    json=payload13, timeout=5,\n",
    "    auth=(config[\"username\"],config[\"password\"]))"
   ],
   "outputs": [],
   "metadata": {}
  },
  {
   "cell_type": "code",
   "execution_count": 70,
   "source": [
    "r13.json()[\"result\"][\"movies\"][0:3]"
   ],
   "outputs": [
    {
     "output_type": "execute_result",
     "data": {
      "text/plain": [
       "[{'file': 'plugin://plugin.video.jellyfin/a329cda1727467c08a8f1493195d32d3/?dbid=31&mode=play&id=e3d32bd87050ca7808e14514558c0b29&filename=20%2C000+Leagues+Under+the+Sea.avi',\n",
       "  'label': '20,000 Leagues Under the Sea',\n",
       "  'movieid': 31,\n",
       "  'playcount': 0,\n",
       "  'thumbnail': 'image://http%3a%2f%2f192.168.1.104%3a8096%2fItems%2fe3d32bd87050ca7808e14514558c0b29%2fImages%2fPrimary%2f0%3fFormat%3doriginal%26Tag%3d5e834a5703af08a31483a782abecfbdd/'},\n",
       " {'file': 'plugin://plugin.video.jellyfin/f137a2dd21bbc1b99aa5c0f6bf02a805/?dbid=122&mode=play&id=dbe2947addbc7c6a6f5fc395441bfeb8&filename=2001.A.Space.Odyssey.mp4',\n",
       "  'label': '2001: A Space Odyssey',\n",
       "  'movieid': 122,\n",
       "  'playcount': 0,\n",
       "  'thumbnail': 'image://http%3a%2f%2f192.168.1.104%3a8096%2fItems%2fdbe2947addbc7c6a6f5fc395441bfeb8%2fImages%2fPrimary%2f0%3fFormat%3doriginal%26Tag%3d84eafcb04a886c040cbe35310bc6180d/'},\n",
       " {'file': 'plugin://plugin.video.jellyfin/a329cda1727467c08a8f1493195d32d3/?dbid=41&mode=play&id=85b253de0fd3dae454aa5bde252d353a&filename=A+Bug%27s+Life.avi',\n",
       "  'label': \"A Bug's Life\",\n",
       "  'movieid': 41,\n",
       "  'playcount': 0,\n",
       "  'thumbnail': 'image://http%3a%2f%2f192.168.1.104%3a8096%2fItems%2f85b253de0fd3dae454aa5bde252d353a%2fImages%2fPrimary%2f0%3fFormat%3doriginal%26Tag%3df06698777ab807483f86c9ddbbb05fc8/'}]"
      ]
     },
     "metadata": {},
     "execution_count": 70
    }
   ],
   "metadata": {}
  },
  {
   "cell_type": "code",
   "execution_count": 71,
   "source": [
    "for i in r13.json()[\"result\"][\"movies\"]:\n",
    "    print(i[\"label\"])"
   ],
   "outputs": [
    {
     "output_type": "stream",
     "name": "stdout",
     "text": [
      "20,000 Leagues Under the Sea\n",
      "2001: A Space Odyssey\n",
      "A Bug's Life\n",
      "A Charlie Brown Christmas 1965\n",
      "A Christmas Story\n",
      "A Close Shave\n",
      "A Fistful of Dollars\n",
      "A Grand Day Out\n",
      "A Hard Day's Night\n",
      "A Matter of Loaf and Death\n",
      "A Star Is Born\n",
      "A View to a Kill\n",
      "The Adventures of Ichabod and Mr. Toad\n",
      "The Adventures of Tintin\n",
      "Aladdin\n",
      "Alice in Wonderland\n",
      "An American Tail\n",
      "The Aristocats\n",
      "The Assassination of Jesse James by the Coward Robert Ford\n",
      "The Avengers\n",
      "Bambi\n",
      "Barry Lyndon\n",
      "Barton Fink\n",
      "The Beatles: Eight Days a Week - The Touring Years\n",
      "Beauty and the Beast\n",
      "Big Hero 6\n",
      "The Big Lebowski\n",
      "The Birthday Party\n",
      "BlacKkKlansman\n",
      "Blazing Saddles\n",
      "Blood Simple\n",
      "The Boss\n",
      "The Bourne Identity\n",
      "Burn After Reading\n",
      "The Cabin in the Woods\n",
      "Captain Fantastic\n",
      "Cars\n",
      "Casino Royale\n",
      "Castle in the Sky\n",
      "The Cat Returns\n",
      "Cedar Rapids\n",
      "Central Intelligence\n",
      "Children of Men\n",
      "Chronicle\n",
      "Cinderella\n",
      "Clear History\n",
      "Cloud Atlas\n",
      "Cold War\n",
      "Collateral\n",
      "The Comedy Central Roast of Joan Rivers\n",
      "Conan the Barbarian\n",
      "Contagion\n",
      "Coriolanus\n",
      "Crazy Rich Asians\n",
      "Creed\n",
      "Crimewave\n",
      "Crouching Tiger, Hidden Dragon\n",
      "Cry Freedom\n",
      "Daddy's Home\n",
      "Dallas Buyers Club\n",
      "Dark Star\n",
      "Das Boot\n",
      "Dave Chappelle: Deep in the Heart of Texas\n",
      "Dave Chappelle: The Age of Spin\n",
      "The Day After Trinity\n",
      "Day of the Fight\n",
      "Deadpool\n",
      "The Death of Stalin\n",
      "Defending Your Life\n",
      "Diamonds Are Forever\n",
      "Die Another Day\n",
      "The Disaster Artist\n",
      "District 9\n",
      "Dope\n",
      "Dr. No\n",
      "Dr. Strangelove or: How I Learned to Stop Worrying and Love the Bomb\n",
      "Dracula\n",
      "Dracula: Dead and Loving It\n",
      "Drive\n",
      "Drop Dead Gorgeous\n",
      "Drunken Master\n",
      "Dumbo\n",
      "Dunkirk 2017\n",
      "Edge of Tomorrow\n",
      "Elysium\n",
      "The Emperor's New Groove\n",
      "The Empire Strikes Back\n",
      "Ender's Game\n",
      "The English Patient\n",
      "Evangelion: 1.0 You Are (Not) Alone\n",
      "Evangelion: 2.0 You Can (Not) Advance\n",
      "Ex Machina\n",
      "Fargo\n",
      "The Farthest 2017\n",
      "The Favourite\n",
      "Finding Nemo\n",
      "Fire and Ice 1983\n",
      "First Man\n",
      "Flatliners\n",
      "Fletch\n",
      "Flight\n",
      "The Florida Project\n",
      "For Your Consideration\n",
      "For Your Eyes Only\n",
      "The Foreigner\n",
      "Foxcatcher\n",
      "Free Solo\n",
      "From Russia with Love\n",
      "Frozen\n",
      "Fruitvale Station\n",
      "Full Metal Jacket\n",
      "Galaxy Quest\n",
      "Gandhi\n",
      "Gattaca\n",
      "Get Him to the Greek\n",
      "Ghost World\n",
      "GoldenEye\n",
      "Goldfinger\n",
      "The Grandmaster\n",
      "Hannah Gadsby: Nanette\n",
      "Hannibal Buress: Comedy Camisado\n",
      "Harry Potter and the Chamber of Secrets\n",
      "Harry Potter and the Deathly Hallows: Part 2\n",
      "Harry Potter and the Goblet of Fire\n",
      "Harry Potter and the Half-Blood Prince\n",
      "Harry Potter and the Order of the Phoenix\n",
      "Harry Potter and the Prisoner of Azkaban\n",
      "Hasan Minhaj: Homecoming King\n",
      "Heat\n",
      "Help!\n",
      "The Hidden Fortress\n",
      "High Anxiety\n",
      "History of the World: Part I\n",
      "Home Alone\n",
      "HomestarRunner - SBEmails' 50 Greatest Hits\n",
      "Hotel Transylvania\n",
      "How the Grinch Stole Christmas!\n",
      "How to Train Your Dragon\n",
      "Howl's Moving Castle\n",
      "The Hudsucker Proxy\n",
      "Hype!\n",
      "I Am Not Your Negro\n",
      "I Know Where I'm Going!\n",
      "If Beale Street Could Talk\n",
      "In Bruges\n",
      "In Time\n",
      "The Incredibles\n",
      "Inside Out\n",
      "Instrument: Ten Years with the Band Fugazi\n",
      "Interstellar\n",
      "Invictus\n",
      "The Iron Giant\n",
      "The Iron Lady\n",
      "Isle of Dogs\n",
      "It's a Wonderful Life\n",
      "Jen Kirkman: Just Keep Livin'?\n",
      "Jerrod Carmichael: 8\n",
      "Jim Gaffigan: Cinco\n",
      "John Carter\n",
      "John Wick\n",
      "The Jungle Book\n",
      "Keanu\n",
      "Kiki's Delivery Service\n",
      "Killer's Kiss\n",
      "The Killing\n",
      "Kiss Me Deadly\n",
      "Korgoth of Barbaria\n",
      "Kung Fu Hustle\n",
      "Kyle Kinane: Loose in Chicago\n",
      "Lady and the Tramp\n",
      "Lady Snowblood\n",
      "Lady Snowblood 2: Love Song of Vengeance\n",
      "The Ladykillers\n",
      "The Legend of Drunken Master\n",
      "Léon: The Professional\n",
      "Licence to Kill\n",
      "Life Stinks\n",
      "Lilo & Stitch\n",
      "The Lion King\n",
      "The Little Mermaid\n",
      "Live and Let Die\n",
      "The Living Daylights\n",
      "The Lobster\n",
      "Lone Survivor\n",
      "Looney Tunes Collection: Best Of Bugs Bunny\n",
      "Looper\n",
      "The Lord of the Rings: The Fellowship of the Ring\n",
      "The Lord of the Rings: The Return of the King\n",
      "The Lord of the Rings: The Two Towers\n",
      "Louis C.K.: 2017\n",
      "Lupin the Third: The Castle of Cagliostro\n",
      "Mad Max: Fury Road\n",
      "Madagascar\n",
      "Madagascar 3: Europe's Most Wanted\n",
      "Madagascar: Escape 2 Africa\n",
      "Man of Steel\n",
      "The Man Who Fell to Earth\n",
      "The Man Who Wasn't There\n",
      "The Man with the Golden Gun\n",
      "The Many Adventures of Winnie the Pooh\n",
      "Margin Call\n",
      "Maria Bamford: Old Baby\n",
      "Mary Poppins\n",
      "The Master\n",
      "Melancholia\n",
      "Melody Time\n",
      "Memories\n",
      "Mickey's Christmas Carol\n",
      "Miller's Crossing\n",
      "Minions\n",
      "The Miroir Noir (2008) - Neon Bible Archives\n",
      "Mobile Suit Gundam Thunderbolt: December Sky\n",
      "Modest Mouse: The Lonesome Crowded West\n",
      "Moneyball\n",
      "Monsters, Inc.\n",
      "Monty Python and the Holy Grail\n",
      "Moonraker\n",
      "The Mosquito Coast\n",
      "The Muppet Christmas Carol - Family 1992 Eng Subs\n",
      "My Neighbor Totoro\n",
      "National Lampoon's Christmas Vacation\n",
      "Nausicaä of the Valley of the Wind\n",
      "Neal Brennan: 3 Mics\n",
      "The New World\n",
      "The Nightmare Before Christmas\n",
      "Ninja Scroll\n",
      "Nirvana: Live at Reading\n",
      "Nirvana: Live at the Paramount\n",
      "No Country for Old Men\n",
      "Norm Macdonald: Hitler's Dog, Gossip & Trickery\n",
      "North by Northwest\n",
      "Octopussy\n",
      "Oh, Hello: On Broadway\n",
      "Oliver & Company\n",
      "On Her Majesty's Secret Service\n",
      "Once Upon a Time in China II\n",
      "One Hundred and One Dalmatians\n",
      "The Other Guys\n",
      "Our Idiot Brother\n",
      "Out of Africa\n",
      "Outland\n",
      "Pacific Rim\n",
      "Paddington\n",
      "Paddington 2\n",
      "Paterson\n",
      "Patlabor 2: The Movie\n",
      "Patlabor: The Movie\n",
      "Patton Oswalt: Werewolves and Lollipops\n",
      "Pearl Jam Twenty\n",
      "Penguins of Madagascar\n",
      "Peter Pan\n",
      "Phantom Thread\n",
      "The Pink Panther\n",
      "The Pink Panther Strikes Again\n",
      "Pinocchio\n",
      "Pixar Short Films Collection: Volume 1\n",
      "Pixar Short Films Collection: Volume 2\n",
      "The Place Beyond the Pines\n",
      "Pocahontas\n",
      "Point Break\n",
      "Police Story\n",
      "Ponyo\n",
      "Popstar: Never Stop Never Stopping\n",
      "Porco Rosso\n",
      "The Princess Bride\n",
      "Princess Mononoke\n",
      "The Producers\n",
      "Prometheus\n",
      "Prospect\n",
      "Quantum of Solace\n",
      "Raising Arizona\n",
      "Ratatouille\n",
      "Redline\n",
      "The Rescuers\n",
      "Return of the Jedi\n",
      "The Return of the Pink Panther\n",
      "Revenge of the Pink Panther\n",
      "The Right Stuff\n",
      "Robin Hood\n",
      "Robin Hood: Men in Tights\n",
      "RoboCop\n",
      "Rogue One: A Star Wars Story\n",
      "Romero\n",
      "Rushmore\n",
      "The Rutles: All You Need Is Cash\n",
      "RV\n",
      "Scarface\n",
      "Scenes from the Suburbs\n",
      "Scott Pilgrim vs. the World\n",
      "Scrooged\n",
      "The Seafarers\n",
      "The Searchers\n",
      "Searching for Bobby Fischer\n",
      "Semi-Pro\n",
      "Shaolin Soccer\n",
      "The Shape of Water\n",
      "Shaun the Sheep Movie\n",
      "The Shining\n",
      "Sicario\n",
      "Silent Movie\n",
      "Silent Running\n",
      "Sing\n",
      "The Skeleton Twins\n",
      "Sleeping Beauty\n",
      "Snow White and the Seven Dwarfs\n",
      "Soldier of Orange\n",
      "Solo: A Star Wars Story\n",
      "The Sound of Music\n",
      "Spaceballs\n",
      "Spartacus\n",
      "Spectre\n",
      "Spirited Away\n",
      "Spy\n",
      "The Spy Who Loved Me\n",
      "Stan & Ollie\n",
      "Star Trek II: The Wrath of Khan\n",
      "Star Trek Into Darkness\n",
      "Star Wars\n",
      "Star Wars: The Force Awakens\n",
      "Steve Jobs\n",
      "Straight Outta Compton\n",
      "Sully\n",
      "Swimming to Cambodia\n",
      "Swiss Family Robinson\n",
      "The Sword in the Stone\n",
      "Talladega Nights: The Ballad of Ricky Bobby\n",
      "Terminator Genisys\n",
      "There Will Be Blood\n",
      "The Thin Red Line\n",
      "Three Billboards Outside Ebbing, Missouri\n",
      "Thunderball\n",
      "Tinker Tailor Soldier Spy\n",
      "Titus\n",
      "To Be or Not to Be\n",
      "Tomorrow Never Dies\n",
      "Tomorrowland\n",
      "Top Gun\n",
      "Toy Story\n",
      "Toy Story 2\n",
      "Trevor Noah: Afraid of the Dark\n",
      "The Twelve Chairs\n",
      "The Untouchables\n",
      "The Vanishing\n",
      "Vice\n",
      "Virus\n",
      "Waiting for Guffman\n",
      "WALL·E\n",
      "Wallace & Gromit's Cracking Contraptions\n",
      "Wallace & Gromit: The Curse of the Were-Rabbit\n",
      "Walt Disney Treasures - Mickey Mouse in Living Color, Volume Two\n",
      "The Warriors 1979\n",
      "Watchmen\n",
      "We Jam Econo: The Story of the Minutemen\n",
      "We're the Millers\n",
      "Wet Hot American Summer\n",
      "Whiplash\n",
      "White Heat\n",
      "Who Framed Roger Rabbit\n",
      "Win Win\n",
      "The Wind Rises\n",
      "The Wizard of Lies\n",
      "The Wizard of Oz\n",
      "The Wolverine\n",
      "Won't You Be My Neighbor?\n",
      "The World Is Not Enough\n",
      "World War Z\n",
      "Wreck-It Ralph\n",
      "The Wrong Trousers\n",
      "Yellow Submarine\n",
      "You Only Live Twice\n",
      "Young Frankenstein\n",
      "Your Name.\n",
      "Zelig\n",
      "Zero Dark Thirty\n",
      "Zoolander 2\n",
      "Zootopia\n",
      "Zulu\n",
      "Zulu Dawn\n"
     ]
    }
   ],
   "metadata": {}
  },
  {
   "cell_type": "code",
   "execution_count": null,
   "source": [
    "def get_movie_data(username, password, message_id_counter):\n",
    "    response = requests.post('http://localhost:8080/jsonrpc',\n",
    "        json={\"jsonrpc\": \"2.0\", \n",
    "            \"method\": \"VideoLibrary.GetMovies\", \n",
    "            \"id\": next(message_id_counter),\n",
    "            \"params\": {\"properties\" : [\"thumbnail\", \"playcount\", \"file\"], \n",
    "            \"sort\": { \"order\": \"ascending\", \n",
    "                    \"method\": \"label\", \n",
    "                    \"ignorearticle\": True }}},\n",
    "        timeout=5,\n",
    "        auth=(username, config))\n",
    "    return(response.json()[\"result\"][\"movies\"])\n",
    "    "
   ],
   "outputs": [],
   "metadata": {}
  },
  {
   "cell_type": "code",
   "execution_count": null,
   "source": [],
   "outputs": [],
   "metadata": {}
  },
  {
   "cell_type": "markdown",
   "source": [
    "# TODO \n",
    "\n",
    "Volume up, volumn down, mute, fast forward,reverse"
   ],
   "metadata": {}
  }
 ],
 "metadata": {
  "interpreter": {
   "hash": "e7370f93d1d0cde622a1f8e1c04877d8463912d04d973331ad4851f04de6915a"
  },
  "kernelspec": {
   "display_name": "Python 3.7.3 32-bit",
   "name": "python3"
  },
  "language_info": {
   "codemirror_mode": {
    "name": "ipython",
    "version": 3
   },
   "file_extension": ".py",
   "mimetype": "text/x-python",
   "name": "python",
   "nbconvert_exporter": "python",
   "pygments_lexer": "ipython3",
   "version": "3.7.3"
  }
 },
 "nbformat": 4,
 "nbformat_minor": 5
}